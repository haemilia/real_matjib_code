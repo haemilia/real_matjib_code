{
 "cells": [
  {
   "cell_type": "code",
   "execution_count": null,
   "id": "66b27732",
   "metadata": {},
   "outputs": [],
   "source": [
    "# Google API 키\n",
    "API_KEY = "
   ]
  },
  {
   "cell_type": "code",
   "execution_count": null,
   "id": "223bac1f",
   "metadata": {},
   "outputs": [
    {
     "name": "stderr",
     "output_type": "stream",
     "text": [
      " 35%|███▍      | 206/591 [03:45<06:33,  1.02s/it]"
     ]
    },
    {
     "name": "stdout",
     "output_type": "stream",
     "text": [
      "[미발견] 03980 545\n"
     ]
    },
    {
     "name": "stderr",
     "output_type": "stream",
     "text": [
      " 47%|████▋     | 279/591 [05:02<05:38,  1.08s/it]"
     ]
    },
    {
     "name": "stdout",
     "output_type": "stream",
     "text": [
      "[미발견] 03989 삼육식당\n"
     ]
    },
    {
     "name": "stderr",
     "output_type": "stream",
     "text": [
      "100%|██████████| 591/591 [10:40<00:00,  1.08s/it]"
     ]
    },
    {
     "name": "stdout",
     "output_type": "stream",
     "text": [
      "수집 완료 및 저장 완료\n"
     ]
    },
    {
     "name": "stderr",
     "output_type": "stream",
     "text": [
      "\n"
     ]
    }
   ],
   "source": [
    "import pandas as pd\n",
    "import requests\n",
    "import time\n",
    "from tqdm import tqdm\n",
    "\n",
    "df_yn = pd.read_csv(\"C:/medici_class/00.프로젝트/최종프로젝트 임시파일/yeonnam_list.csv\")\n",
    "\n",
    "# Google Maps API 요청 함수\n",
    "def get_place_id(query):\n",
    "    \"\"\"검색어로 place_id와 가게명 얻기\"\"\"\n",
    "    url = \"https://maps.googleapis.com/maps/api/place/findplacefromtext/json\"\n",
    "    params = {\n",
    "        \"input\": query,\n",
    "        \"inputtype\": \"textquery\",\n",
    "        \"fields\": \"place_id,name\",\n",
    "        \"key\": API_KEY\n",
    "    }\n",
    "    res = requests.get(url, params=params).json()\n",
    "    candidates = res.get(\"candidates\")\n",
    "    if candidates:\n",
    "        return candidates[0][\"place_id\"], candidates[0][\"name\"]\n",
    "    return None, None\n",
    "\n",
    "def get_info(place_id):\n",
    "    \"\"\"place_id로 상세정보 얻기\"\"\"\n",
    "    url = \"https://maps.googleapis.com/maps/api/place/details/json\"\n",
    "    params = {\n",
    "        \"place_id\": place_id,\n",
    "        \"key\": API_KEY,\n",
    "        \"language\": \"ko\"\n",
    "    }\n",
    "    res = requests.get(url, params=params).json()\n",
    "    if res[\"status\"] == \"OK\":\n",
    "        result = res[\"result\"]\n",
    "        return {\n",
    "            \"검색결과 가게명\": result.get(\"name\", \"\"),\n",
    "            \"평점\": result.get(\"rating\", \"\"),\n",
    "            \"리뷰 수\": result.get(\"user_ratings_total\", \"\")\n",
    "        }\n",
    "    return {}\n",
    "\n",
    "# 정보 수집\n",
    "all_infos = []\n",
    "\n",
    "for i, row in tqdm(df_yn.iterrows(), total=len(df_yn)):\n",
    "    search_query = row[\"검색어2\"]\n",
    "    store_name = row[\"사업장명\"]\n",
    "    \n",
    "    try:\n",
    "        place_id, place_name = get_place_id(search_query)\n",
    "        if place_id:\n",
    "            info = get_info(place_id)\n",
    "            info[\"검색어\"] = search_query\n",
    "            info[\"사업장명\"] = store_name\n",
    "            all_infos.append(info)\n",
    "        else:\n",
    "            print(f\"[미발견] {search_query}\")\n",
    "        time.sleep(0.3)  # 너무 빠른 요청 방지\n",
    "    except Exception as e:\n",
    "        print(f\"[오류] {search_query}: {e}\")\n",
    "        continue\n",
    "\n",
    "# 결과 저장\n",
    "df_infos = pd.DataFrame(all_infos)\n",
    "df_infos.to_csv(\"gmaps_info_api.csv\", index=False, encoding=\"utf-8-sig\")\n",
    "print(\"수집 완료 및 저장 완료\")\n"
   ]
  },
  {
   "cell_type": "code",
   "execution_count": 2,
   "id": "06be0a13",
   "metadata": {},
   "outputs": [],
   "source": [
    "import pandas as pd"
   ]
  },
  {
   "cell_type": "code",
   "execution_count": 17,
   "id": "196c3bb5",
   "metadata": {},
   "outputs": [
    {
     "data": {
      "text/plain": [
       "Index(['검색결과 가게명', '평점', '리뷰 수', '검색어', '사업장명'], dtype='object')"
      ]
     },
     "execution_count": 17,
     "metadata": {},
     "output_type": "execute_result"
    }
   ],
   "source": [
    "df_info = pd.read_csv(\"C:/medici_class/00.프로젝트/최종프로젝트 임시파일/gmaps_info_api.csv\")\n",
    "\n",
    "df_info.columns"
   ]
  },
  {
   "cell_type": "code",
   "execution_count": 18,
   "id": "341fbe87",
   "metadata": {},
   "outputs": [
    {
     "data": {
      "application/vnd.microsoft.datawrangler.viewer.v0+json": {
       "columns": [
        {
         "name": "index",
         "rawType": "int64",
         "type": "integer"
        },
        {
         "name": "사업장명",
         "rawType": "object",
         "type": "string"
        },
        {
         "name": "검색결과 가게명",
         "rawType": "object",
         "type": "string"
        },
        {
         "name": "평점",
         "rawType": "float64",
         "type": "float"
        },
        {
         "name": "리뷰 수",
         "rawType": "float64",
         "type": "float"
        }
       ],
       "ref": "511c523a-373b-422c-a623-1147c272172d",
       "rows": [
        [
         "0",
         "연남술비",
         "suulbi",
         "5.0",
         "24.0"
        ],
        [
         "1",
         "유메오뎅",
         "Yume Fish Cake Yeonnam",
         "4.1",
         "10.0"
        ],
        [
         "2",
         "헤비메탈",
         "Heavy Metal",
         "5.0",
         "15.0"
        ],
        [
         "3",
         "문일리(moonily)",
         "MOONILY PIZZA HOUSE",
         "4.4",
         "21.0"
        ],
        [
         "4",
         "스필아웃",
         "Spill Out (Pizza & Bar)",
         "4.9",
         "136.0"
        ]
       ],
       "shape": {
        "columns": 4,
        "rows": 5
       }
      },
      "text/html": [
       "<div>\n",
       "<style scoped>\n",
       "    .dataframe tbody tr th:only-of-type {\n",
       "        vertical-align: middle;\n",
       "    }\n",
       "\n",
       "    .dataframe tbody tr th {\n",
       "        vertical-align: top;\n",
       "    }\n",
       "\n",
       "    .dataframe thead th {\n",
       "        text-align: right;\n",
       "    }\n",
       "</style>\n",
       "<table border=\"1\" class=\"dataframe\">\n",
       "  <thead>\n",
       "    <tr style=\"text-align: right;\">\n",
       "      <th></th>\n",
       "      <th>사업장명</th>\n",
       "      <th>검색결과 가게명</th>\n",
       "      <th>평점</th>\n",
       "      <th>리뷰 수</th>\n",
       "    </tr>\n",
       "  </thead>\n",
       "  <tbody>\n",
       "    <tr>\n",
       "      <th>0</th>\n",
       "      <td>연남술비</td>\n",
       "      <td>suulbi</td>\n",
       "      <td>5.0</td>\n",
       "      <td>24.0</td>\n",
       "    </tr>\n",
       "    <tr>\n",
       "      <th>1</th>\n",
       "      <td>유메오뎅</td>\n",
       "      <td>Yume Fish Cake Yeonnam</td>\n",
       "      <td>4.1</td>\n",
       "      <td>10.0</td>\n",
       "    </tr>\n",
       "    <tr>\n",
       "      <th>2</th>\n",
       "      <td>헤비메탈</td>\n",
       "      <td>Heavy Metal</td>\n",
       "      <td>5.0</td>\n",
       "      <td>15.0</td>\n",
       "    </tr>\n",
       "    <tr>\n",
       "      <th>3</th>\n",
       "      <td>문일리(moonily)</td>\n",
       "      <td>MOONILY PIZZA HOUSE</td>\n",
       "      <td>4.4</td>\n",
       "      <td>21.0</td>\n",
       "    </tr>\n",
       "    <tr>\n",
       "      <th>4</th>\n",
       "      <td>스필아웃</td>\n",
       "      <td>Spill Out (Pizza &amp; Bar)</td>\n",
       "      <td>4.9</td>\n",
       "      <td>136.0</td>\n",
       "    </tr>\n",
       "  </tbody>\n",
       "</table>\n",
       "</div>"
      ],
      "text/plain": [
       "           사업장명                 검색결과 가게명   평점   리뷰 수\n",
       "0          연남술비                   suulbi  5.0   24.0\n",
       "1          유메오뎅   Yume Fish Cake Yeonnam  4.1   10.0\n",
       "2          헤비메탈              Heavy Metal  5.0   15.0\n",
       "3  문일리(moonily)      MOONILY PIZZA HOUSE  4.4   21.0\n",
       "4          스필아웃  Spill Out (Pizza & Bar)  4.9  136.0"
      ]
     },
     "execution_count": 18,
     "metadata": {},
     "output_type": "execute_result"
    }
   ],
   "source": [
    "df_info.drop(columns=['검색어'], inplace=True)\n",
    "\n",
    "new_order = ['사업장명', '검색결과 가게명', '평점', '리뷰 수']\n",
    "df_info = df_info[new_order]\n",
    "\n",
    "df_info.head()"
   ]
  },
  {
   "cell_type": "code",
   "execution_count": 23,
   "id": "641e2725",
   "metadata": {},
   "outputs": [],
   "source": [
    "df_info.to_csv(\"gmaps_infos_api.csv\", index=False, sep=\"\\t\", encoding=\"utf-8-sig\")"
   ]
  },
  {
   "cell_type": "code",
   "execution_count": null,
   "id": "c267bd61",
   "metadata": {},
   "outputs": [],
   "source": []
  }
 ],
 "metadata": {
  "kernelspec": {
   "display_name": "py310",
   "language": "python",
   "name": "python3"
  },
  "language_info": {
   "codemirror_mode": {
    "name": "ipython",
    "version": 3
   },
   "file_extension": ".py",
   "mimetype": "text/x-python",
   "name": "python",
   "nbconvert_exporter": "python",
   "pygments_lexer": "ipython3",
   "version": "3.10.17"
  }
 },
 "nbformat": 4,
 "nbformat_minor": 5
}
